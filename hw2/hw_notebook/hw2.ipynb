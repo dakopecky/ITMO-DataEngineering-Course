{
  "cells": [
    {
      "cell_type": "markdown",
      "source": [
        "## Импорт зависимостей"
      ],
      "metadata": {
        "collapsed": false,
        "id": "b786c93f04153eb"
      },
      "id": "b786c93f04153eb"
    },
    {
      "cell_type": "code",
      "execution_count": null,
      "outputs": [],
      "source": [
        "import os\n",
        "import random\n",
        "import shutil\n",
        "import json\n",
        "from shapely.geometry import Polygon"
      ],
      "metadata": {
        "ExecuteTime": {
          "end_time": "2023-12-06T03:59:18.620083Z",
          "start_time": "2023-12-06T03:59:18.618228Z"
        },
        "id": "ee815995abdfd30a"
      },
      "id": "ee815995abdfd30a"
    },
    {
      "cell_type": "markdown",
      "source": [
        "# Загрузка 'Traffic Signs' dataset"
      ],
      "metadata": {
        "collapsed": false,
        "id": "7cc49b1bb4e45fd9"
      },
      "id": "7cc49b1bb4e45fd9"
    },
    {
      "cell_type": "code",
      "execution_count": null,
      "outputs": [],
      "source": [
        "!wget -q 'https://www.dropbox.com/scl/fi/aptgg7do2iruqeyo9exrn/traffic-signs.tar.gz?rlkey=l6dl8nel7a8wk36p7dlns8kx8&dl=1' -O 'traffic-signs.tar.gz'"
      ],
      "metadata": {
        "ExecuteTime": {
          "end_time": "2023-12-06T04:01:49.590051Z",
          "start_time": "2023-12-06T04:01:36.809253Z"
        },
        "id": "1beae95b5054090c"
      },
      "id": "1beae95b5054090c"
    },
    {
      "cell_type": "code",
      "execution_count": null,
      "outputs": [],
      "source": [
        "!tar -zxf 'traffic-signs.tar.gz'"
      ],
      "metadata": {
        "ExecuteTime": {
          "end_time": "2023-12-06T04:01:52.541361Z",
          "start_time": "2023-12-06T04:01:52.084429Z"
        },
        "id": "d2050a9117c0401f"
      },
      "id": "d2050a9117c0401f"
    },
    {
      "cell_type": "markdown",
      "source": [
        "# ТЗ"
      ],
      "metadata": {
        "collapsed": false,
        "id": "c2b7a0ab5681b78"
      },
      "id": "c2b7a0ab5681b78"
    },
    {
      "cell_type": "markdown",
      "source": [
        "## Road Sign Annotation Project\n",
        "\n",
        "## Project Overview\n",
        "This project involves annotating a dataset of 50 images that depict various road scenes, specifically focusing on road signs. The task requires identifying and classifying each road sign into one of four distinct classes: stop, crosswalk, traffic light, and speed limit. The dataset will be uploaded and annotated using the [Supervisely](https://app.supervisely.com) platform.\n",
        "\n",
        "## Objective\n",
        "- To accurately annotate road signs in each image.\n",
        "- Classify each sign into one of the specified categories.\n",
        "\n",
        "## Dataset Details\n",
        "- **Total Images**: 50\n",
        "- **Content Description**: Each image contains one or more road signs in various road scenes.\n",
        "- **Annotation Platform**: [Supervisely](https://app.supervisely.com)\n",
        "\n",
        "## Annotation Guidelines\n",
        "1. **Classes for Annotation**:\n",
        "   - **stop**: STOP signs.\n",
        "   - **crosswalk**: Signs indicating crosswalks.\n",
        "   - **trafficlight**: Traffic lights.\n",
        "   - **speedlimit**: Signs indicating speed limits on the road.\n",
        "2. **Annotation Process**:\n",
        "   - Thoroughly examine each image for road signs.\n",
        "   - Use the rectangle tool in [Supervisely](https://app.supervisely.com) to draw bounding boxes around each sign.\n",
        "   - Ensure the bounding box fits closely around the edges of the sign.\n",
        "3. **Handling Multiple Objects**:\n",
        "   - If multiple signs are present in an image, annotate each sign separately.\n",
        "   - Each eligible sign must be properly assigned to one of the four classes.\n",
        "4. **Accuracy**:\n",
        "   - Ensure high accuracy in both the placement of bounding boxes and the classification of signs.\n",
        "   - Recheck annotations for any possible errors.\n",
        "\n",
        "## Exporting Annotations\n",
        "- Upon completion, export the annotations in JSON format.\n",
        "- The JSON file should accurately reflect all annotations and classifications.\n",
        "\n",
        "## Deliverables\n",
        "- A JSON file containing the annotations for all 50 images.\n",
        "\n",
        "## Examples:\n",
        "![1](https://i.ibb.co/YZD7bGp/1.png)\n",
        "![2](https://i.ibb.co/Yd9tzfn/2.png)"
      ],
      "metadata": {
        "collapsed": false,
        "id": "6cc00e892ff1f428"
      },
      "id": "6cc00e892ff1f428"
    },
    {
      "cell_type": "markdown",
      "source": [
        "# Формирование семпла для разметчика, а так же валидационного семпла"
      ],
      "metadata": {
        "collapsed": false,
        "id": "5b7d86209c397465"
      },
      "id": "5b7d86209c397465"
    },
    {
      "cell_type": "code",
      "execution_count": null,
      "outputs": [],
      "source": [
        "def create_sample(source, target, size, seed=42):\n",
        "    random.seed(seed)\n",
        "\n",
        "    dataset_dir = source\n",
        "    target_dir = target\n",
        "\n",
        "    if not os.path.exists(target_dir):\n",
        "        os.makedirs(target_dir)\n",
        "\n",
        "    all_images = os.listdir(dataset_dir)\n",
        "    selected_images = random.sample(all_images, size)\n",
        "\n",
        "    for image in selected_images:\n",
        "        source_path = os.path.join(dataset_dir, image)\n",
        "        target_path = os.path.join(target_dir, image)\n",
        "        shutil.copy(source_path, target_path)"
      ],
      "metadata": {
        "ExecuteTime": {
          "end_time": "2023-12-06T04:04:37.571432Z",
          "start_time": "2023-12-06T04:04:37.565190Z"
        },
        "id": "5d7b564ae155a1ac"
      },
      "id": "5d7b564ae155a1ac"
    },
    {
      "cell_type": "code",
      "execution_count": null,
      "outputs": [],
      "source": [
        "create_sample(source='traffic-signs/images', target='hw2-dataset/images', size=50)"
      ],
      "metadata": {
        "ExecuteTime": {
          "end_time": "2023-12-06T04:04:38.428219Z",
          "start_time": "2023-12-06T04:04:38.381425Z"
        },
        "id": "53291c22a85f40b"
      },
      "id": "53291c22a85f40b"
    },
    {
      "cell_type": "code",
      "execution_count": null,
      "outputs": [],
      "source": [
        "!tar -czf 'hw2-traffic-signs.tar.gz' 'hw2-dataset/images'"
      ],
      "metadata": {
        "ExecuteTime": {
          "end_time": "2023-12-06T04:04:39.628476Z",
          "start_time": "2023-12-06T04:04:39.245601Z"
        },
        "id": "b279862a5e0e4d81"
      },
      "id": "b279862a5e0e4d81"
    },
    {
      "cell_type": "code",
      "execution_count": null,
      "outputs": [],
      "source": [
        "create_sample(source='hw2-dataset/images', target='hw2-dataset/validation-sample', size=10)"
      ],
      "metadata": {
        "ExecuteTime": {
          "end_time": "2023-12-06T04:04:40.406495Z",
          "start_time": "2023-12-06T04:04:40.395105Z"
        },
        "id": "399190f549f1446a"
      },
      "id": "399190f549f1446a"
    },
    {
      "cell_type": "markdown",
      "source": [
        "# Разметка"
      ],
      "metadata": {
        "collapsed": false,
        "id": "7372b0494d1c1f75"
      },
      "id": "7372b0494d1c1f75"
    },
    {
      "cell_type": "markdown",
      "source": [
        "Проведена разметка валидационного семпла, подмешанного в основной семпл разметчика"
      ],
      "metadata": {
        "collapsed": false,
        "id": "35285299d1bdf1aa"
      },
      "id": "35285299d1bdf1aa"
    },
    {
      "cell_type": "code",
      "execution_count": null,
      "outputs": [],
      "source": [
        "!mkdir 'results'\n",
        "%cd results"
      ],
      "metadata": {
        "id": "ed7fbb5aa9512aea"
      },
      "id": "ed7fbb5aa9512aea"
    },
    {
      "cell_type": "code",
      "execution_count": null,
      "outputs": [],
      "source": [
        "!wget -q 'https://www.dropbox.com/scl/fi/vc3dyn797fb9r3o088ky5/marked-up-validation-signs.tar.gz?rlkey=jsni9rlmg40lc3jxu2upt200g&dl=1' -O 'marked-up-validation-signs.tar.gz'\n",
        "!tar -zxf 'marked-up-validation-signs.tar.gz'"
      ],
      "metadata": {
        "ExecuteTime": {
          "end_time": "2023-12-06T04:05:05.697528Z",
          "start_time": "2023-12-06T04:05:03.138473Z"
        },
        "id": "32fd8d9fefe6c039"
      },
      "id": "32fd8d9fefe6c039"
    },
    {
      "cell_type": "markdown",
      "source": [
        "Передан основной семпл, получена аннотации знаков по 4 классам от разметчика"
      ],
      "metadata": {
        "collapsed": false,
        "id": "abd79d27457a84f1"
      },
      "id": "abd79d27457a84f1"
    },
    {
      "cell_type": "code",
      "execution_count": null,
      "outputs": [],
      "source": [
        "!wget -q 'https://www.dropbox.com/scl/fi/lggjo73rl2gkb73u91q3k/marked-up-signs.tar.gz?rlkey=e2oycef22ac34j1up7qfpzpdw&dl=1' -O 'marked-up-signs.tar.gz'\n",
        "!tar -zxf 'marked-up-signs.tar.gz'"
      ],
      "metadata": {
        "ExecuteTime": {
          "end_time": "2023-12-06T04:05:11.913142Z",
          "start_time": "2023-12-06T04:05:08.498521Z"
        },
        "id": "2752bed005c9f5a0"
      },
      "id": "2752bed005c9f5a0"
    },
    {
      "cell_type": "markdown",
      "source": [
        "# Валидация"
      ],
      "metadata": {
        "collapsed": false,
        "id": "2aa91c786d1897fa"
      },
      "id": "2aa91c786d1897fa"
    },
    {
      "cell_type": "markdown",
      "source": [
        "Количество аннотаций соответствует количеству объектов в семпле"
      ],
      "metadata": {
        "collapsed": false,
        "id": "db68da5833226c77"
      },
      "id": "db68da5833226c77"
    },
    {
      "cell_type": "code",
      "execution_count": null,
      "outputs": [
        {
          "name": "stdout",
          "output_type": "stream",
          "text": [
            "      50\r\n"
          ]
        }
      ],
      "source": [
        "!ls 'annotations/' | wc -l"
      ],
      "metadata": {
        "ExecuteTime": {
          "end_time": "2023-12-06T04:05:14.998428Z",
          "start_time": "2023-12-06T04:05:14.872022Z"
        },
        "id": "9b6d66e8c99085fe",
        "outputId": "7c7f4a73-cc6c-4128-a264-e11159f5b611"
      },
      "id": "9b6d66e8c99085fe"
    },
    {
      "cell_type": "markdown",
      "source": [
        "Сверка с валидационным семплом, на количество объектов, типы классов, а так же IoU"
      ],
      "metadata": {
        "collapsed": false,
        "id": "a70d88b0611fd8ca"
      },
      "id": "a70d88b0611fd8ca"
    },
    {
      "cell_type": "code",
      "execution_count": null,
      "outputs": [],
      "source": [
        "def calculate_iou(boxA, boxB):\n",
        "    polyA = Polygon([boxA[0], [boxA[1][0], boxA[0][1]], boxA[1], [boxA[0][0], boxA[1][1]]])\n",
        "    polyB = Polygon([boxB[0], [boxB[1][0], boxB[0][1]], boxB[1], [boxB[0][0], boxB[1][1]]])\n",
        "    intersection = polyA.intersection(polyB).area\n",
        "    union = polyA.union(polyB).area\n",
        "    return intersection / union if union != 0 else 0\n",
        "\n",
        "\n",
        "def load_annotations(file_path):\n",
        "    with open(file_path, 'r') as file:\n",
        "        data = json.load(file)\n",
        "    return data[\"objects\"]\n",
        "\n",
        "\n",
        "def compare_annotations(test_annotations, marked_up_annotations):\n",
        "    if len(test_annotations) != len(marked_up_annotations):\n",
        "        print(\"The number of objects does not match between the annotations\\n\")\n",
        "        return\n",
        "\n",
        "    matched_reviewer_objects = set()\n",
        "\n",
        "    for idx, test_obj in enumerate(test_annotations, 1):\n",
        "        test_class = test_obj['classTitle']\n",
        "        test_box = test_obj['points']['exterior']\n",
        "        best_iou_score = 0\n",
        "        best_match_id = None\n",
        "\n",
        "        for reviewer_obj in marked_up_annotations:\n",
        "            if reviewer_obj['classTitle'] == test_class and reviewer_obj['id'] not in matched_reviewer_objects:\n",
        "                reviewer_box = reviewer_obj['points']['exterior']\n",
        "                iou_score = calculate_iou(test_box, reviewer_box)\n",
        "                if iou_score > best_iou_score:\n",
        "                    best_iou_score = iou_score\n",
        "                    best_match_id = reviewer_obj['id']\n",
        "\n",
        "        if best_match_id is not None:\n",
        "            matched_reviewer_objects.add(best_match_id)\n",
        "            print(f\"Object {idx}: Best match found for class '{test_class}'. IoU Score: {round(best_iou_score, 2)}\\n\")\n",
        "        else:\n",
        "            print(f\"Class '{test_class}' not found among the reviewer's annotations\\n\")"
      ],
      "metadata": {
        "ExecuteTime": {
          "end_time": "2023-12-06T04:05:29.631694Z",
          "start_time": "2023-12-06T04:05:29.628228Z"
        },
        "id": "ba237a1ab7d1eac9"
      },
      "id": "ba237a1ab7d1eac9"
    },
    {
      "cell_type": "code",
      "execution_count": null,
      "outputs": [
        {
          "name": "stdout",
          "output_type": "stream",
          "text": [
            "--- \"road162.json\" annotation ---\n",
            "Object 1: Best match found for class 'speedlimit'. IoU Score: 0.92\n",
            "\n",
            "--- \"road176.json\" annotation ---\n",
            "Object 1: Best match found for class 'trafficlight'. IoU Score: 0.92\n",
            "\n",
            "Object 2: Best match found for class 'crosswalk'. IoU Score: 0.94\n",
            "\n",
            "--- \"road240.json\" annotation ---\n",
            "Object 1: Best match found for class 'speedlimit'. IoU Score: 0.94\n",
            "\n",
            "Object 2: Best match found for class 'speedlimit'. IoU Score: 0.83\n",
            "\n",
            "--- \"road274.json\" annotation ---\n",
            "Object 1: Best match found for class 'speedlimit'. IoU Score: 0.9\n",
            "\n",
            "--- \"road459.json\" annotation ---\n",
            "Object 1: Best match found for class 'crosswalk'. IoU Score: 0.88\n",
            "\n",
            "Object 2: Best match found for class 'trafficlight'. IoU Score: 0.94\n",
            "\n",
            "Object 3: Best match found for class 'speedlimit'. IoU Score: 0.94\n",
            "\n",
            "--- \"road502.json\" annotation ---\n",
            "Object 1: Best match found for class 'speedlimit'. IoU Score: 0.96\n",
            "\n",
            "--- \"road512.json\" annotation ---\n",
            "Object 1: Best match found for class 'speedlimit'. IoU Score: 0.89\n",
            "\n",
            "--- \"road611.json\" annotation ---\n",
            "Object 1: Best match found for class 'speedlimit'. IoU Score: 0.97\n",
            "\n",
            "--- \"road704.json\" annotation ---\n",
            "Object 1: Best match found for class 'speedlimit'. IoU Score: 0.87\n",
            "\n",
            "Object 2: Best match found for class 'speedlimit'. IoU Score: 0.82\n",
            "\n",
            "--- \"road769.json\" annotation ---\n",
            "Object 1: Best match found for class 'speedlimit'. IoU Score: 0.89\n"
          ]
        }
      ],
      "source": [
        "test_annotation_dir = 'validation-annotations/'\n",
        "marked_up_annotation_dir = 'annotations/'\n",
        "test_annotations = os.listdir(test_annotation_dir)\n",
        "\n",
        "for ann in sorted(test_annotations):\n",
        "    print(f'--- \"{ann}\" annotation ---')\n",
        "    test_annotations = load_annotations(test_annotation_dir + ann)\n",
        "    marked_up_annotations = load_annotations(marked_up_annotation_dir + ann)\n",
        "    compare_annotations(test_annotations, marked_up_annotations)"
      ],
      "metadata": {
        "ExecuteTime": {
          "end_time": "2023-12-06T04:05:30.831024Z",
          "start_time": "2023-12-06T04:05:30.821302Z"
        },
        "id": "b36fba589bf8e13f",
        "outputId": "462ac247-80f2-4a3a-957b-875caad988b0"
      },
      "id": "b36fba589bf8e13f"
    },
    {
      "cell_type": "markdown",
      "source": [
        "# Итоги"
      ],
      "metadata": {
        "collapsed": false,
        "id": "9ba93e3ff0ef3f4c"
      },
      "id": "9ba93e3ff0ef3f4c"
    },
    {
      "cell_type": "markdown",
      "source": [
        "В процессе выполнении работы был выделен семпл для разметки, в котором содержались подмешанные данные (20%) для валидации. Этот семпл формировался случайным образом, чтобы минимизировать шанс попадания в узкий диапазон, в итоге имеем довольно хорошее распределение валидационного семпла по всему основному.\n",
        "\n",
        "После получение от разметчика аннотаций при помощи скрипта была произведена оценка приближенности к валидационному семплу при помощи IoU. Как можно видеть, количество объектов и их классы совпадают с валидационном семплом, а IoU достаточно высоко (мин 0.82).\n",
        "\n",
        "Таким образом, можно сделать вывод, что разметчик произвел разметку довольно качественно и имеем пригодные для дальнейшей работы аннотации."
      ],
      "metadata": {
        "collapsed": false,
        "id": "1890c690933560a9"
      },
      "id": "1890c690933560a9"
    }
  ],
  "metadata": {
    "kernelspec": {
      "display_name": "Python 3 (ipykernel)",
      "language": "python",
      "name": "python3"
    },
    "language_info": {
      "codemirror_mode": {
        "name": "ipython",
        "version": 3
      },
      "file_extension": ".py",
      "mimetype": "text/x-python",
      "name": "python",
      "nbconvert_exporter": "python",
      "pygments_lexer": "ipython3",
      "version": "3.10.13"
    },
    "colab": {
      "provenance": [],
      "collapsed_sections": [
        "b786c93f04153eb",
        "7cc49b1bb4e45fd9",
        "c2b7a0ab5681b78",
        "5b7d86209c397465",
        "7372b0494d1c1f75",
        "2aa91c786d1897fa",
        "9ba93e3ff0ef3f4c"
      ]
    }
  },
  "nbformat": 4,
  "nbformat_minor": 5
}